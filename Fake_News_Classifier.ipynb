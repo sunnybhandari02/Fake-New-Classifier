{
 "cells": [
  {
   "cell_type": "markdown",
   "metadata": {},
   "source": [
    "# Importing Packages"
   ]
  },
  {
   "cell_type": "code",
   "execution_count": 235,
   "metadata": {},
   "outputs": [],
   "source": [
    "import numpy as np\n",
    "import pandas as pd\n",
    "import re\n",
    "import itertools\n",
    "import nltk\n",
    "from nltk.corpus import stopwords\n",
    "from nltk.stem.porter import PorterStemmer\n",
    "from nltk.stem import WordNetLemmatizer\n",
    "from sklearn.model_selection import train_test_split\n",
    "from sklearn.feature_extraction.text import TfidfVectorizer\n",
    "from sklearn.linear_model import LogisticRegression\n",
    "from sklearn.metrics import accuracy_score\n",
    "import matplotlib.pyplot as plt\n",
    "\n",
    "%matplotlib inline"
   ]
  },
  {
   "cell_type": "code",
   "execution_count": 236,
   "metadata": {},
   "outputs": [
    {
     "name": "stderr",
     "output_type": "stream",
     "text": [
      "[nltk_data] Downloading package stopwords to\n",
      "[nltk_data]     C:\\Users\\User\\AppData\\Roaming\\nltk_data...\n",
      "[nltk_data]   Package stopwords is already up-to-date!\n"
     ]
    },
    {
     "data": {
      "text/plain": [
       "True"
      ]
     },
     "execution_count": 236,
     "metadata": {},
     "output_type": "execute_result"
    }
   ],
   "source": [
    "# importing stopwords\n",
    "import nltk\n",
    "nltk.download('stopwords')"
   ]
  },
  {
   "cell_type": "code",
   "execution_count": 237,
   "metadata": {},
   "outputs": [
    {
     "name": "stdout",
     "output_type": "stream",
     "text": [
      "['i', 'me', 'my', 'myself', 'we', 'our', 'ours', 'ourselves', 'you', \"you're\", \"you've\", \"you'll\", \"you'd\", 'your', 'yours', 'yourself', 'yourselves', 'he', 'him', 'his', 'himself', 'she', \"she's\", 'her', 'hers', 'herself', 'it', \"it's\", 'its', 'itself', 'they', 'them', 'their', 'theirs', 'themselves', 'what', 'which', 'who', 'whom', 'this', 'that', \"that'll\", 'these', 'those', 'am', 'is', 'are', 'was', 'were', 'be', 'been', 'being', 'have', 'has', 'had', 'having', 'do', 'does', 'did', 'doing', 'a', 'an', 'the', 'and', 'but', 'if', 'or', 'because', 'as', 'until', 'while', 'of', 'at', 'by', 'for', 'with', 'about', 'against', 'between', 'into', 'through', 'during', 'before', 'after', 'above', 'below', 'to', 'from', 'up', 'down', 'in', 'out', 'on', 'off', 'over', 'under', 'again', 'further', 'then', 'once', 'here', 'there', 'when', 'where', 'why', 'how', 'all', 'any', 'both', 'each', 'few', 'more', 'most', 'other', 'some', 'such', 'no', 'nor', 'not', 'only', 'own', 'same', 'so', 'than', 'too', 'very', 's', 't', 'can', 'will', 'just', 'don', \"don't\", 'should', \"should've\", 'now', 'd', 'll', 'm', 'o', 're', 've', 'y', 'ain', 'aren', \"aren't\", 'couldn', \"couldn't\", 'didn', \"didn't\", 'doesn', \"doesn't\", 'hadn', \"hadn't\", 'hasn', \"hasn't\", 'haven', \"haven't\", 'isn', \"isn't\", 'ma', 'mightn', \"mightn't\", 'mustn', \"mustn't\", 'needn', \"needn't\", 'shan', \"shan't\", 'shouldn', \"shouldn't\", 'wasn', \"wasn't\", 'weren', \"weren't\", 'won', \"won't\", 'wouldn', \"wouldn't\"]\n"
     ]
    }
   ],
   "source": [
    "# printing the stopwords in English\n",
    "print(stopwords.words('english'))"
   ]
  },
  {
   "cell_type": "markdown",
   "metadata": {},
   "source": [
    "# Loading the dataset"
   ]
  },
  {
   "cell_type": "code",
   "execution_count": 238,
   "metadata": {},
   "outputs": [],
   "source": [
    "news_dataset = pd.read_csv('train.csv')\n",
    "test_dataset = pd.read_csv('test.csv')"
   ]
  },
  {
   "cell_type": "code",
   "execution_count": 239,
   "metadata": {},
   "outputs": [
    {
     "data": {
      "text/html": [
       "<div>\n",
       "<style scoped>\n",
       "    .dataframe tbody tr th:only-of-type {\n",
       "        vertical-align: middle;\n",
       "    }\n",
       "\n",
       "    .dataframe tbody tr th {\n",
       "        vertical-align: top;\n",
       "    }\n",
       "\n",
       "    .dataframe thead th {\n",
       "        text-align: right;\n",
       "    }\n",
       "</style>\n",
       "<table border=\"1\" class=\"dataframe\">\n",
       "  <thead>\n",
       "    <tr style=\"text-align: right;\">\n",
       "      <th></th>\n",
       "      <th>id</th>\n",
       "      <th>title</th>\n",
       "      <th>author</th>\n",
       "      <th>text</th>\n",
       "      <th>label</th>\n",
       "    </tr>\n",
       "  </thead>\n",
       "  <tbody>\n",
       "    <tr>\n",
       "      <th>0</th>\n",
       "      <td>0</td>\n",
       "      <td>House Dem Aide: We Didn’t Even See Comey’s Let...</td>\n",
       "      <td>Darrell Lucus</td>\n",
       "      <td>House Dem Aide: We Didn’t Even See Comey’s Let...</td>\n",
       "      <td>1</td>\n",
       "    </tr>\n",
       "    <tr>\n",
       "      <th>1</th>\n",
       "      <td>1</td>\n",
       "      <td>FLYNN: Hillary Clinton, Big Woman on Campus - ...</td>\n",
       "      <td>Daniel J. Flynn</td>\n",
       "      <td>Ever get the feeling your life circles the rou...</td>\n",
       "      <td>0</td>\n",
       "    </tr>\n",
       "    <tr>\n",
       "      <th>2</th>\n",
       "      <td>2</td>\n",
       "      <td>Why the Truth Might Get You Fired</td>\n",
       "      <td>Consortiumnews.com</td>\n",
       "      <td>Why the Truth Might Get You Fired October 29, ...</td>\n",
       "      <td>1</td>\n",
       "    </tr>\n",
       "    <tr>\n",
       "      <th>3</th>\n",
       "      <td>3</td>\n",
       "      <td>15 Civilians Killed In Single US Airstrike Hav...</td>\n",
       "      <td>Jessica Purkiss</td>\n",
       "      <td>Videos 15 Civilians Killed In Single US Airstr...</td>\n",
       "      <td>1</td>\n",
       "    </tr>\n",
       "    <tr>\n",
       "      <th>4</th>\n",
       "      <td>4</td>\n",
       "      <td>Iranian woman jailed for fictional unpublished...</td>\n",
       "      <td>Howard Portnoy</td>\n",
       "      <td>Print \\nAn Iranian woman has been sentenced to...</td>\n",
       "      <td>1</td>\n",
       "    </tr>\n",
       "  </tbody>\n",
       "</table>\n",
       "</div>"
      ],
      "text/plain": [
       "   id                                              title              author  \\\n",
       "0   0  House Dem Aide: We Didn’t Even See Comey’s Let...       Darrell Lucus   \n",
       "1   1  FLYNN: Hillary Clinton, Big Woman on Campus - ...     Daniel J. Flynn   \n",
       "2   2                  Why the Truth Might Get You Fired  Consortiumnews.com   \n",
       "3   3  15 Civilians Killed In Single US Airstrike Hav...     Jessica Purkiss   \n",
       "4   4  Iranian woman jailed for fictional unpublished...      Howard Portnoy   \n",
       "\n",
       "                                                text  label  \n",
       "0  House Dem Aide: We Didn’t Even See Comey’s Let...      1  \n",
       "1  Ever get the feeling your life circles the rou...      0  \n",
       "2  Why the Truth Might Get You Fired October 29, ...      1  \n",
       "3  Videos 15 Civilians Killed In Single US Airstr...      1  \n",
       "4  Print \\nAn Iranian woman has been sentenced to...      1  "
      ]
     },
     "execution_count": 239,
     "metadata": {},
     "output_type": "execute_result"
    }
   ],
   "source": [
    "# printing the first 5 rows of the dataframe\n",
    "news_dataset.head()"
   ]
  },
  {
   "cell_type": "code",
   "execution_count": 240,
   "metadata": {},
   "outputs": [
    {
     "data": {
      "text/html": [
       "<div>\n",
       "<style scoped>\n",
       "    .dataframe tbody tr th:only-of-type {\n",
       "        vertical-align: middle;\n",
       "    }\n",
       "\n",
       "    .dataframe tbody tr th {\n",
       "        vertical-align: top;\n",
       "    }\n",
       "\n",
       "    .dataframe thead th {\n",
       "        text-align: right;\n",
       "    }\n",
       "</style>\n",
       "<table border=\"1\" class=\"dataframe\">\n",
       "  <thead>\n",
       "    <tr style=\"text-align: right;\">\n",
       "      <th></th>\n",
       "      <th>id</th>\n",
       "      <th>title</th>\n",
       "      <th>author</th>\n",
       "      <th>text</th>\n",
       "    </tr>\n",
       "  </thead>\n",
       "  <tbody>\n",
       "    <tr>\n",
       "      <th>0</th>\n",
       "      <td>20800</td>\n",
       "      <td>Specter of Trump Loosens Tongues, if Not Purse...</td>\n",
       "      <td>David Streitfeld</td>\n",
       "      <td>PALO ALTO, Calif.  —   After years of scorning...</td>\n",
       "    </tr>\n",
       "    <tr>\n",
       "      <th>1</th>\n",
       "      <td>20801</td>\n",
       "      <td>Russian warships ready to strike terrorists ne...</td>\n",
       "      <td>NaN</td>\n",
       "      <td>Russian warships ready to strike terrorists ne...</td>\n",
       "    </tr>\n",
       "    <tr>\n",
       "      <th>2</th>\n",
       "      <td>20802</td>\n",
       "      <td>#NoDAPL: Native American Leaders Vow to Stay A...</td>\n",
       "      <td>Common Dreams</td>\n",
       "      <td>Videos #NoDAPL: Native American Leaders Vow to...</td>\n",
       "    </tr>\n",
       "    <tr>\n",
       "      <th>3</th>\n",
       "      <td>20803</td>\n",
       "      <td>Tim Tebow Will Attempt Another Comeback, This ...</td>\n",
       "      <td>Daniel Victor</td>\n",
       "      <td>If at first you don’t succeed, try a different...</td>\n",
       "    </tr>\n",
       "    <tr>\n",
       "      <th>4</th>\n",
       "      <td>20804</td>\n",
       "      <td>Keiser Report: Meme Wars (E995)</td>\n",
       "      <td>Truth Broadcast Network</td>\n",
       "      <td>42 mins ago 1 Views 0 Comments 0 Likes 'For th...</td>\n",
       "    </tr>\n",
       "  </tbody>\n",
       "</table>\n",
       "</div>"
      ],
      "text/plain": [
       "      id                                              title  \\\n",
       "0  20800  Specter of Trump Loosens Tongues, if Not Purse...   \n",
       "1  20801  Russian warships ready to strike terrorists ne...   \n",
       "2  20802  #NoDAPL: Native American Leaders Vow to Stay A...   \n",
       "3  20803  Tim Tebow Will Attempt Another Comeback, This ...   \n",
       "4  20804                    Keiser Report: Meme Wars (E995)   \n",
       "\n",
       "                    author                                               text  \n",
       "0         David Streitfeld  PALO ALTO, Calif.  —   After years of scorning...  \n",
       "1                      NaN  Russian warships ready to strike terrorists ne...  \n",
       "2            Common Dreams  Videos #NoDAPL: Native American Leaders Vow to...  \n",
       "3            Daniel Victor  If at first you don’t succeed, try a different...  \n",
       "4  Truth Broadcast Network  42 mins ago 1 Views 0 Comments 0 Likes 'For th...  "
      ]
     },
     "execution_count": 240,
     "metadata": {},
     "output_type": "execute_result"
    }
   ],
   "source": [
    "test_dataset.head()"
   ]
  },
  {
   "cell_type": "code",
   "execution_count": 241,
   "metadata": {},
   "outputs": [
    {
     "data": {
      "text/plain": [
       "(20800, 5)"
      ]
     },
     "execution_count": 241,
     "metadata": {},
     "output_type": "execute_result"
    }
   ],
   "source": [
    "# shape of the dataset\n",
    "news_dataset.shape"
   ]
  },
  {
   "cell_type": "code",
   "execution_count": 242,
   "metadata": {},
   "outputs": [
    {
     "data": {
      "text/plain": [
       "(5200, 4)"
      ]
     },
     "execution_count": 242,
     "metadata": {},
     "output_type": "execute_result"
    }
   ],
   "source": [
    "# shape of test data\n",
    "test_dataset.shape"
   ]
  },
  {
   "cell_type": "code",
   "execution_count": 243,
   "metadata": {},
   "outputs": [
    {
     "data": {
      "text/plain": [
       "id           0\n",
       "title      558\n",
       "author    1957\n",
       "text        39\n",
       "label        0\n",
       "dtype: int64"
      ]
     },
     "execution_count": 243,
     "metadata": {},
     "output_type": "execute_result"
    }
   ],
   "source": [
    "# counting the number of missing values in the dataset\n",
    "news_dataset.isnull().sum()"
   ]
  },
  {
   "cell_type": "markdown",
   "metadata": {},
   "source": [
    "Therefore there are missing values present in our dataset in title, author and text column."
   ]
  },
  {
   "cell_type": "code",
   "execution_count": 244,
   "metadata": {},
   "outputs": [
    {
     "data": {
      "text/plain": [
       "id          0\n",
       "title     122\n",
       "author    503\n",
       "text        7\n",
       "dtype: int64"
      ]
     },
     "execution_count": 244,
     "metadata": {},
     "output_type": "execute_result"
    }
   ],
   "source": [
    "# checking missing value in test data\n",
    "test_dataset.isnull().sum()"
   ]
  },
  {
   "cell_type": "code",
   "execution_count": 245,
   "metadata": {},
   "outputs": [],
   "source": [
    "# replacing the null values with empty string\n",
    "news_dataset = news_dataset.fillna(' ')\n",
    "test_dataset = test_dataset.fillna(' ')"
   ]
  },
  {
   "cell_type": "code",
   "execution_count": 246,
   "metadata": {},
   "outputs": [],
   "source": [
    "# merging the author name, news title\n",
    "news_dataset['content'] = news_dataset['author'] + ' ' + news_dataset['title']"
   ]
  },
  {
   "cell_type": "code",
   "execution_count": 247,
   "metadata": {},
   "outputs": [
    {
     "name": "stdout",
     "output_type": "stream",
     "text": [
      "0        Darrell Lucus House Dem Aide: We Didn’t Even S...\n",
      "1        Daniel J. Flynn FLYNN: Hillary Clinton, Big Wo...\n",
      "2        Consortiumnews.com Why the Truth Might Get You...\n",
      "3        Jessica Purkiss 15 Civilians Killed In Single ...\n",
      "4        Howard Portnoy Iranian woman jailed for fictio...\n",
      "5        Daniel Nussbaum Jackie Mason: Hollywood Would ...\n",
      "6          Life: Life Of Luxury: Elton John’s 6 Favorit...\n",
      "7        Alissa J. Rubin Benoît Hamon Wins French Socia...\n",
      "8          Excerpts From a Draft Script for Donald Trum...\n",
      "9        Megan Twohey and Scott Shane A Back-Channel Pl...\n",
      "10       Aaron Klein Obama’s Organizing for Action Part...\n",
      "11       Chris Tomlinson BBC Comedy Sketch \"Real Housew...\n",
      "12       Amando Flavio Russian Researchers Discover Sec...\n",
      "13       Jason Ditz US Officials See No Link Between Tr...\n",
      "14       AnotherAnnie Re: Yes, There Are Paid Governmen...\n",
      "15       Jack Williams In Major League Soccer, Argentin...\n",
      "16       Michael Corkery and Stacy Cowley Wells Fargo C...\n",
      "17       Starkman Anonymous Donor Pays $2.5 Million To ...\n",
      "18                       The Doc FBI Closes In On Hillary!\n",
      "19       Jeff Poor Chuck Todd: ’BuzzFeed Did Donald Tru...\n",
      "20         News: Hope For The GOP: A Nude Paul Ryan Has...\n",
      "21       Jerome Hudson Monica Lewinsky, Clinton Sex Sca...\n",
      "22       Pam Key Rob Reiner: Trump Is ’Mentally Unstabl...\n",
      "23         Massachusetts Cop’s Wife Busted for Pinning ...\n",
      "24       Donald G. McNeil Jr. and Pam Belluck Abortion ...\n",
      "25       Ira Helfand Nukes and the UN: a Historic Treat...\n",
      "26       Aaron Klein and Ali Waked EXCLUSIVE: Islamic S...\n",
      "27       Amanda Shea Humiliated Hillary Tries To Hide W...\n",
      "28       Jim Dwyer Andrea Tantaros of Fox News Claims R...\n",
      "29       Mark Landler How Hillary Clinton Became a Hawk...\n",
      "                               ...                        \n",
      "20770    Iron Sheik HUMA ABEDIN SWORE UNDER OATH SHE GA...\n",
      "20771                                         Letsbereal  \n",
      "20772                                        beersession  \n",
      "20773    Vicki Batts Australia to hunt down anti-vax nu...\n",
      "20774    Liam Deacon Government Report: Islamists Build...\n",
      "20775    Arnaldo Rodgers How this WWII airman is helpin...\n",
      "20776    Jameson Parker Trump Campaign Says Hillary Sup...\n",
      "20777    admin Editor of Austria’s Largest Paper Charge...\n",
      "20778    Neil Irwin This Is a Jobs Report That Democrat...\n",
      "20779    Thomas D. Williams, Ph.D. Christians in 2017 ’...\n",
      "20780    Christine Hauser Florida Woman Charged in Deat...\n",
      "20781    Heather Callaghan Time is Running Out to Stop ...\n",
      "20782    The Doc The Fix Is In: NBC Affiliate Accidenta...\n",
      "20783    Charles McDermid Samsung, Kim Jong-un, Rex Til...\n",
      "20784    Debbie Menon Comment on World Heaves Sigh of R...\n",
      "20785    Ann Coulter Ann Coulter: How to Provide Univer...\n",
      "20786      Government Forces Advancing at Damascus-Alep...\n",
      "20787    Ian Mason Sally Yates Won’t Say If Trump Was W...\n",
      "20788    Joe Clark Maine’s Gov. LePage Threatens To ‘In...\n",
      "20789    Warner Todd Huston Sen. McConnell: The Supreme...\n",
      "20790    Adam Shaw Nikki Haley Blasts U.N. Human Rights...\n",
      "20791    Daniel Greenfield Lawyer Who Kept Hillary Camp...\n",
      "20792    John Hayward Jakarta Bombing Kills Three Polic...\n",
      "20793    Robert Rich Idiot Who Destroyed Trump Hollywoo...\n",
      "20794    Lee Stranahan Trump: Putin ’Very Smart’ to Not...\n",
      "20795    Jerome Hudson Rapper T.I.: Trump a ’Poster Chi...\n",
      "20796    Benjamin Hoffman N.F.L. Playoffs: Schedule, Ma...\n",
      "20797    Michael J. de la Merced and Rachel Abrams Macy...\n",
      "20798    Alex Ansary NATO, Russia To Hold Parallel Exer...\n",
      "20799              David Swanson What Keeps the F-35 Alive\n",
      "Name: content, Length: 20800, dtype: object\n"
     ]
    }
   ],
   "source": [
    "print(news_dataset['content'])"
   ]
  },
  {
   "cell_type": "markdown",
   "metadata": {},
   "source": [
    "So we will use this 'content' coloumn for building our model"
   ]
  },
  {
   "cell_type": "code",
   "execution_count": 248,
   "metadata": {},
   "outputs": [
    {
     "data": {
      "text/html": [
       "<div>\n",
       "<style scoped>\n",
       "    .dataframe tbody tr th:only-of-type {\n",
       "        vertical-align: middle;\n",
       "    }\n",
       "\n",
       "    .dataframe tbody tr th {\n",
       "        vertical-align: top;\n",
       "    }\n",
       "\n",
       "    .dataframe thead th {\n",
       "        text-align: right;\n",
       "    }\n",
       "</style>\n",
       "<table border=\"1\" class=\"dataframe\">\n",
       "  <thead>\n",
       "    <tr style=\"text-align: right;\">\n",
       "      <th></th>\n",
       "      <th>id</th>\n",
       "      <th>title</th>\n",
       "      <th>author</th>\n",
       "      <th>text</th>\n",
       "      <th>label</th>\n",
       "      <th>content</th>\n",
       "    </tr>\n",
       "  </thead>\n",
       "  <tbody>\n",
       "    <tr>\n",
       "      <th>0</th>\n",
       "      <td>0</td>\n",
       "      <td>House Dem Aide: We Didn’t Even See Comey’s Let...</td>\n",
       "      <td>Darrell Lucus</td>\n",
       "      <td>House Dem Aide: We Didn’t Even See Comey’s Let...</td>\n",
       "      <td>1</td>\n",
       "      <td>Darrell Lucus House Dem Aide: We Didn’t Even S...</td>\n",
       "    </tr>\n",
       "    <tr>\n",
       "      <th>1</th>\n",
       "      <td>1</td>\n",
       "      <td>FLYNN: Hillary Clinton, Big Woman on Campus - ...</td>\n",
       "      <td>Daniel J. Flynn</td>\n",
       "      <td>Ever get the feeling your life circles the rou...</td>\n",
       "      <td>0</td>\n",
       "      <td>Daniel J. Flynn FLYNN: Hillary Clinton, Big Wo...</td>\n",
       "    </tr>\n",
       "    <tr>\n",
       "      <th>2</th>\n",
       "      <td>2</td>\n",
       "      <td>Why the Truth Might Get You Fired</td>\n",
       "      <td>Consortiumnews.com</td>\n",
       "      <td>Why the Truth Might Get You Fired October 29, ...</td>\n",
       "      <td>1</td>\n",
       "      <td>Consortiumnews.com Why the Truth Might Get You...</td>\n",
       "    </tr>\n",
       "    <tr>\n",
       "      <th>3</th>\n",
       "      <td>3</td>\n",
       "      <td>15 Civilians Killed In Single US Airstrike Hav...</td>\n",
       "      <td>Jessica Purkiss</td>\n",
       "      <td>Videos 15 Civilians Killed In Single US Airstr...</td>\n",
       "      <td>1</td>\n",
       "      <td>Jessica Purkiss 15 Civilians Killed In Single ...</td>\n",
       "    </tr>\n",
       "    <tr>\n",
       "      <th>4</th>\n",
       "      <td>4</td>\n",
       "      <td>Iranian woman jailed for fictional unpublished...</td>\n",
       "      <td>Howard Portnoy</td>\n",
       "      <td>Print \\nAn Iranian woman has been sentenced to...</td>\n",
       "      <td>1</td>\n",
       "      <td>Howard Portnoy Iranian woman jailed for fictio...</td>\n",
       "    </tr>\n",
       "  </tbody>\n",
       "</table>\n",
       "</div>"
      ],
      "text/plain": [
       "   id                                              title              author  \\\n",
       "0   0  House Dem Aide: We Didn’t Even See Comey’s Let...       Darrell Lucus   \n",
       "1   1  FLYNN: Hillary Clinton, Big Woman on Campus - ...     Daniel J. Flynn   \n",
       "2   2                  Why the Truth Might Get You Fired  Consortiumnews.com   \n",
       "3   3  15 Civilians Killed In Single US Airstrike Hav...     Jessica Purkiss   \n",
       "4   4  Iranian woman jailed for fictional unpublished...      Howard Portnoy   \n",
       "\n",
       "                                                text  label  \\\n",
       "0  House Dem Aide: We Didn’t Even See Comey’s Let...      1   \n",
       "1  Ever get the feeling your life circles the rou...      0   \n",
       "2  Why the Truth Might Get You Fired October 29, ...      1   \n",
       "3  Videos 15 Civilians Killed In Single US Airstr...      1   \n",
       "4  Print \\nAn Iranian woman has been sentenced to...      1   \n",
       "\n",
       "                                             content  \n",
       "0  Darrell Lucus House Dem Aide: We Didn’t Even S...  \n",
       "1  Daniel J. Flynn FLYNN: Hillary Clinton, Big Wo...  \n",
       "2  Consortiumnews.com Why the Truth Might Get You...  \n",
       "3  Jessica Purkiss 15 Civilians Killed In Single ...  \n",
       "4  Howard Portnoy Iranian woman jailed for fictio...  "
      ]
     },
     "execution_count": 248,
     "metadata": {},
     "output_type": "execute_result"
    }
   ],
   "source": [
    "# printing the first 5 rows of the dataset\n",
    "news_dataset.head()"
   ]
  },
  {
   "cell_type": "code",
   "execution_count": 249,
   "metadata": {},
   "outputs": [
    {
     "data": {
      "text/plain": [
       "<matplotlib.axes._subplots.AxesSubplot at 0x260e3ef2a58>"
      ]
     },
     "execution_count": 249,
     "metadata": {},
     "output_type": "execute_result"
    },
    {
     "data": {
      "image/png": "[encoded data removed]",
      "text/plain": [
       "<Figure size 432x288 with 1 Axes>"
      ]
     },
     "metadata": {
      "needs_background": "light"
     },
     "output_type": "display_data"
    }
   ],
   "source": [
    "# Number of fake news and number of real news in our dataset\n",
    "news_dataset['label'].value_counts().plot(kind = 'bar')    # bar graph"
   ]
  },
  {
   "cell_type": "code",
   "execution_count": 250,
   "metadata": {},
   "outputs": [
    {
     "data": {
      "image/png": "[encoded data removed]",
      "text/plain": [
       "<Figure size 432x432 with 1 Axes>"
      ]
     },
     "metadata": {},
     "output_type": "display_data"
    }
   ],
   "source": [
    "# Pie chart\n",
    "news_dataset[\"label\"].value_counts().plot(kind = 'pie', explode = [0, 0.1], figsize = (6, 6), autopct = '%1.2f%%')\n",
    "plt.ylabel(\"Fake vs Real\")\n",
    "plt.legend([\"Real\", \"Fake\"])\n",
    "plt.show()"
   ]
  },
  {
   "cell_type": "code",
   "execution_count": 251,
   "metadata": {},
   "outputs": [],
   "source": [
    "# separating the data and label\n",
    "X = news_dataset.drop(columns = 'label', axis = 1)\n",
    "Y = news_dataset['label']"
   ]
  },
  {
   "cell_type": "code",
   "execution_count": 252,
   "metadata": {},
   "outputs": [
    {
     "name": "stdout",
     "output_type": "stream",
     "text": [
      "          id                                              title  \\\n",
      "0          0  House Dem Aide: We Didn’t Even See Comey’s Let...   \n",
      "1          1  FLYNN: Hillary Clinton, Big Woman on Campus - ...   \n",
      "2          2                  Why the Truth Might Get You Fired   \n",
      "3          3  15 Civilians Killed In Single US Airstrike Hav...   \n",
      "4          4  Iranian woman jailed for fictional unpublished...   \n",
      "5          5  Jackie Mason: Hollywood Would Love Trump if He...   \n",
      "6          6  Life: Life Of Luxury: Elton John’s 6 Favorite ...   \n",
      "7          7  Benoît Hamon Wins French Socialist Party’s Pre...   \n",
      "8          8  Excerpts From a Draft Script for Donald Trump’...   \n",
      "9          9  A Back-Channel Plan for Ukraine and Russia, Co...   \n",
      "10        10  Obama’s Organizing for Action Partners with So...   \n",
      "11        11  BBC Comedy Sketch \"Real Housewives of ISIS\" Ca...   \n",
      "12        12  Russian Researchers Discover Secret Nazi Milit...   \n",
      "13        13  US Officials See No Link Between Trump and Russia   \n",
      "14        14  Re: Yes, There Are Paid Government Trolls On S...   \n",
      "15        15  In Major League Soccer, Argentines Find a Home...   \n",
      "16        16  Wells Fargo Chief Abruptly Steps Down - The Ne...   \n",
      "17        17  Anonymous Donor Pays $2.5 Million To Release E...   \n",
      "18        18                          FBI Closes In On Hillary!   \n",
      "19        19  Chuck Todd: ’BuzzFeed Did Donald Trump a Polit...   \n",
      "20        20  News: Hope For The GOP: A Nude Paul Ryan Has J...   \n",
      "21        21  Monica Lewinsky, Clinton Sex Scandal Set for ’...   \n",
      "22        22  Rob Reiner: Trump Is ’Mentally Unstable’ - Bre...   \n",
      "23        23  Massachusetts Cop’s Wife Busted for Pinning Fa...   \n",
      "24        24  Abortion Pill Orders Rise in 7 Latin American ...   \n",
      "25        25  Nukes and the UN: a Historic Treaty to Ban Nuc...   \n",
      "26        26  EXCLUSIVE: Islamic State Supporters Vow to ‘Sh...   \n",
      "27        27  Humiliated Hillary Tries To Hide What Camera C...   \n",
      "28        28  Andrea Tantaros of Fox News Claims Retaliation...   \n",
      "29        29  How Hillary Clinton Became a Hawk - The New Yo...   \n",
      "...      ...                                                ...   \n",
      "20770  20770  HUMA ABEDIN SWORE UNDER OATH SHE GAVE UP ‘ALL ...   \n",
      "20771  20771                                                      \n",
      "20772  20772                                                      \n",
      "20773  20773  Australia to hunt down anti-vax nurses and pro...   \n",
      "20774  20774  Government Report: Islamists Building ’Paralle...   \n",
      "20775  20775  How this WWII airman is helping veterans heal ...   \n",
      "20776  20776  Trump Campaign Says Hillary Supporter Tried As...   \n",
      "20777  20777  Editor of Austria’s Largest Paper Charged with...   \n",
      "20778  20778  This Is a Jobs Report That Democrats Can Boast...   \n",
      "20779  20779  Christians in 2017 ’Most Persecuted Group in t...   \n",
      "20780  20780  Florida Woman Charged in Death of Infant in ‘C...   \n",
      "20781  20781  Time is Running Out to Stop Kratom Ban – Need ...   \n",
      "20782  20782  The Fix Is In: NBC Affiliate Accidentally Post...   \n",
      "20783  20783  Samsung, Kim Jong-un, Rex Tillerson: Your Morn...   \n",
      "20784  20784  Comment on World Heaves Sigh of Relief after T...   \n",
      "20785  20785  Ann Coulter: How to Provide Universal Health C...   \n",
      "20786  20786  Government Forces Advancing at Damascus-Aleppo...   \n",
      "20787  20787  Sally Yates Won’t Say If Trump Was Wiretapped ...   \n",
      "20788  20788  Maine’s Gov. LePage Threatens To ‘Investigate’...   \n",
      "20789  20789  Sen. McConnell: The Supreme Court Vacancy Was ...   \n",
      "20790  20790  Nikki Haley Blasts U.N. Human Rights Office fo...   \n",
      "20791  20791  Lawyer Who Kept Hillary Campaign Chief Out of ...   \n",
      "20792  20792  Jakarta Bombing Kills Three Police Officers, L...   \n",
      "20793  20793  Idiot Who Destroyed Trump Hollywood Star Gets ...   \n",
      "20794  20794  Trump: Putin ’Very Smart’ to Not Retaliate ove...   \n",
      "20795  20795  Rapper T.I.: Trump a ’Poster Child For White S...   \n",
      "20796  20796  N.F.L. Playoffs: Schedule, Matchups and Odds -...   \n",
      "20797  20797  Macy’s Is Said to Receive Takeover Approach by...   \n",
      "20798  20798  NATO, Russia To Hold Parallel Exercises In Bal...   \n",
      "20799  20799                          What Keeps the F-35 Alive   \n",
      "\n",
      "                                          author  \\\n",
      "0                                  Darrell Lucus   \n",
      "1                                Daniel J. Flynn   \n",
      "2                             Consortiumnews.com   \n",
      "3                                Jessica Purkiss   \n",
      "4                                 Howard Portnoy   \n",
      "5                                Daniel Nussbaum   \n",
      "6                                                  \n",
      "7                                Alissa J. Rubin   \n",
      "8                                                  \n",
      "9                   Megan Twohey and Scott Shane   \n",
      "10                                   Aaron Klein   \n",
      "11                               Chris Tomlinson   \n",
      "12                                 Amando Flavio   \n",
      "13                                    Jason Ditz   \n",
      "14                                  AnotherAnnie   \n",
      "15                                 Jack Williams   \n",
      "16              Michael Corkery and Stacy Cowley   \n",
      "17                                      Starkman   \n",
      "18                                       The Doc   \n",
      "19                                     Jeff Poor   \n",
      "20                                                 \n",
      "21                                 Jerome Hudson   \n",
      "22                                       Pam Key   \n",
      "23                                                 \n",
      "24          Donald G. McNeil Jr. and Pam Belluck   \n",
      "25                                   Ira Helfand   \n",
      "26                     Aaron Klein and Ali Waked   \n",
      "27                                   Amanda Shea   \n",
      "28                                     Jim Dwyer   \n",
      "29                                  Mark Landler   \n",
      "...                                          ...   \n",
      "20770                                 Iron Sheik   \n",
      "20771                                 Letsbereal   \n",
      "20772                                beersession   \n",
      "20773                                Vicki Batts   \n",
      "20774                                Liam Deacon   \n",
      "20775                            Arnaldo Rodgers   \n",
      "20776                             Jameson Parker   \n",
      "20777                                      admin   \n",
      "20778                                 Neil Irwin   \n",
      "20779                  Thomas D. Williams, Ph.D.   \n",
      "20780                           Christine Hauser   \n",
      "20781                          Heather Callaghan   \n",
      "20782                                    The Doc   \n",
      "20783                           Charles McDermid   \n",
      "20784                               Debbie Menon   \n",
      "20785                                Ann Coulter   \n",
      "20786                                              \n",
      "20787                                  Ian Mason   \n",
      "20788                                  Joe Clark   \n",
      "20789                         Warner Todd Huston   \n",
      "20790                                  Adam Shaw   \n",
      "20791                          Daniel Greenfield   \n",
      "20792                               John Hayward   \n",
      "20793                                Robert Rich   \n",
      "20794                              Lee Stranahan   \n",
      "20795                              Jerome Hudson   \n",
      "20796                           Benjamin Hoffman   \n",
      "20797  Michael J. de la Merced and Rachel Abrams   \n",
      "20798                                Alex Ansary   \n",
      "20799                              David Swanson   \n",
      "\n",
      "                                                    text  \\\n",
      "0      House Dem Aide: We Didn’t Even See Comey’s Let...   \n",
      "1      Ever get the feeling your life circles the rou...   \n",
      "2      Why the Truth Might Get You Fired October 29, ...   \n",
      "3      Videos 15 Civilians Killed In Single US Airstr...   \n",
      "4      Print \\nAn Iranian woman has been sentenced to...   \n",
      "5      In these trying times, Jackie Mason is the Voi...   \n",
      "6      Ever wonder how Britain’s most iconic pop pian...   \n",
      "7      PARIS  —   France chose an idealistic, traditi...   \n",
      "8      Donald J. Trump is scheduled to make a highly ...   \n",
      "9      A week before Michael T. Flynn resigned as nat...   \n",
      "10     Organizing for Action, the activist group that...   \n",
      "11     The BBC produced spoof on the “Real Housewives...   \n",
      "12     The mystery surrounding The Third Reich and Na...   \n",
      "13     Clinton Campaign Demands FBI Affirm Trump's Ru...   \n",
      "14     Yes, There Are Paid Government Trolls On Socia...   \n",
      "15     Guillermo Barros Schelotto was not the first A...   \n",
      "16     The scandal engulfing Wells Fargo toppled its ...   \n",
      "17     A Caddo Nation tribal leader has just been fre...   \n",
      "18     FBI Closes In On Hillary! Posted on Home » Hea...   \n",
      "19     Wednesday after   Donald Trump’s press confere...   \n",
      "20     Email \\nSince Donald Trump entered the electio...   \n",
      "21     Screenwriter Ryan Murphy, who has produced the...   \n",
      "22     Sunday on MSNBC’s “AM Joy,” actor and director...   \n",
      "23     Massachusetts Cop’s Wife Busted for Pinning Fa...   \n",
      "24     Orders for abortion pills by women in seven La...   \n",
      "25     Email \\nIn an historic move the United Nations...   \n",
      "26     JERUSALEM  —   Islamic State sympathizers and ...   \n",
      "27     Humiliated Hillary Tries To Hide What Camera C...   \n",
      "28     Andrea Tantaros, a former Fox News host, charg...   \n",
      "29     Hillary Clinton sat in the hideaway study off ...   \n",
      "...                                                  ...   \n",
      "20770  Home › POLITICS | US NEWS › HUMA ABEDIN SWORE ...   \n",
      "20771  DYN's Statement on Last Week's Botnet Attack h...   \n",
      "20772  Kinda reminds me of when Carter gave away the ...   \n",
      "20773  Australia to hunt down anti-vax nurses and pro...   \n",
      "20774  Aided by a politically correct culture of “tol...   \n",
      "20775  ‹ › Arnaldo Rodgers is a trained and educated ...   \n",
      "20776  Donald Trump was rushed from a rally stage by ...   \n",
      "20777  Breitbart October 26, 2016 \\nAn editor of Aust...   \n",
      "20778  There’s not much to say about the July jobs nu...   \n",
      "20779  In many parts of the world, Christians gatheri...   \n",
      "20780  Early on Oct. 6, Erin   was awakened by the so...   \n",
      "20781  By Brandon Turbeville When the DEA announced t...   \n",
      "20782  Home » Headlines » World News » The Fix Is In:...   \n",
      "20783  Good morning.  Here’s what you need to know: •...   \n",
      "20784    Finian Cunningham has written extensively on...   \n",
      "20785  The first sentence of Congress’ Obamacare repe...   \n",
      "20786  #FROMTHEFRONT #MAPS 22.11.2016 - 1,361 views 5...   \n",
      "20787  Former Deputy Attorney General Sally Yates dec...   \n",
      "20788  Google Pinterest Digg Linkedin Reddit Stumbleu...   \n",
      "20789  Senate Majority Leader Mitch McConnell (R, KY)...   \n",
      "20790  U. S Ambassador to the United Nations Nikki Ha...   \n",
      "20791  Lawyer Who Kept Hillary Campaign Chief Out of ...   \n",
      "20792  Two suicide bombers attacked a bus station in ...   \n",
      "20793  Share This \\nAlthough the vandal who thought i...   \n",
      "20794  Donald Trump took to Twitter Friday to praise ...   \n",
      "20795  Rapper T. I. unloaded on black celebrities who...   \n",
      "20796  When the Green Bay Packers lost to the Washing...   \n",
      "20797  The Macy’s of today grew from the union of sev...   \n",
      "20798  NATO, Russia To Hold Parallel Exercises In Bal...   \n",
      "20799    David Swanson is an author, activist, journa...   \n",
      "\n",
      "                                                 content  \n",
      "0      Darrell Lucus House Dem Aide: We Didn’t Even S...  \n",
      "1      Daniel J. Flynn FLYNN: Hillary Clinton, Big Wo...  \n",
      "2      Consortiumnews.com Why the Truth Might Get You...  \n",
      "3      Jessica Purkiss 15 Civilians Killed In Single ...  \n",
      "4      Howard Portnoy Iranian woman jailed for fictio...  \n",
      "5      Daniel Nussbaum Jackie Mason: Hollywood Would ...  \n",
      "6        Life: Life Of Luxury: Elton John’s 6 Favorit...  \n",
      "7      Alissa J. Rubin Benoît Hamon Wins French Socia...  \n",
      "8        Excerpts From a Draft Script for Donald Trum...  \n",
      "9      Megan Twohey and Scott Shane A Back-Channel Pl...  \n",
      "10     Aaron Klein Obama’s Organizing for Action Part...  \n",
      "11     Chris Tomlinson BBC Comedy Sketch \"Real Housew...  \n",
      "12     Amando Flavio Russian Researchers Discover Sec...  \n",
      "13     Jason Ditz US Officials See No Link Between Tr...  \n",
      "14     AnotherAnnie Re: Yes, There Are Paid Governmen...  \n",
      "15     Jack Williams In Major League Soccer, Argentin...  \n",
      "16     Michael Corkery and Stacy Cowley Wells Fargo C...  \n",
      "17     Starkman Anonymous Donor Pays $2.5 Million To ...  \n",
      "18                     The Doc FBI Closes In On Hillary!  \n",
      "19     Jeff Poor Chuck Todd: ’BuzzFeed Did Donald Tru...  \n",
      "20       News: Hope For The GOP: A Nude Paul Ryan Has...  \n",
      "21     Jerome Hudson Monica Lewinsky, Clinton Sex Sca...  \n",
      "22     Pam Key Rob Reiner: Trump Is ’Mentally Unstabl...  \n",
      "23       Massachusetts Cop’s Wife Busted for Pinning ...  \n",
      "24     Donald G. McNeil Jr. and Pam Belluck Abortion ...  \n",
      "25     Ira Helfand Nukes and the UN: a Historic Treat...  \n",
      "26     Aaron Klein and Ali Waked EXCLUSIVE: Islamic S...  \n",
      "27     Amanda Shea Humiliated Hillary Tries To Hide W...  \n",
      "28     Jim Dwyer Andrea Tantaros of Fox News Claims R...  \n",
      "29     Mark Landler How Hillary Clinton Became a Hawk...  \n",
      "...                                                  ...  \n",
      "20770  Iron Sheik HUMA ABEDIN SWORE UNDER OATH SHE GA...  \n",
      "20771                                       Letsbereal    \n",
      "20772                                      beersession    \n",
      "20773  Vicki Batts Australia to hunt down anti-vax nu...  \n",
      "20774  Liam Deacon Government Report: Islamists Build...  \n",
      "20775  Arnaldo Rodgers How this WWII airman is helpin...  \n",
      "20776  Jameson Parker Trump Campaign Says Hillary Sup...  \n",
      "20777  admin Editor of Austria’s Largest Paper Charge...  \n",
      "20778  Neil Irwin This Is a Jobs Report That Democrat...  \n",
      "20779  Thomas D. Williams, Ph.D. Christians in 2017 ’...  \n",
      "20780  Christine Hauser Florida Woman Charged in Deat...  \n",
      "20781  Heather Callaghan Time is Running Out to Stop ...  \n",
      "20782  The Doc The Fix Is In: NBC Affiliate Accidenta...  \n",
      "20783  Charles McDermid Samsung, Kim Jong-un, Rex Til...  \n",
      "20784  Debbie Menon Comment on World Heaves Sigh of R...  \n",
      "20785  Ann Coulter Ann Coulter: How to Provide Univer...  \n",
      "20786    Government Forces Advancing at Damascus-Alep...  \n",
      "20787  Ian Mason Sally Yates Won’t Say If Trump Was W...  \n",
      "20788  Joe Clark Maine’s Gov. LePage Threatens To ‘In...  \n",
      "20789  Warner Todd Huston Sen. McConnell: The Supreme...  \n",
      "20790  Adam Shaw Nikki Haley Blasts U.N. Human Rights...  \n",
      "20791  Daniel Greenfield Lawyer Who Kept Hillary Camp...  \n",
      "20792  John Hayward Jakarta Bombing Kills Three Polic...  \n",
      "20793  Robert Rich Idiot Who Destroyed Trump Hollywoo...  \n",
      "20794  Lee Stranahan Trump: Putin ’Very Smart’ to Not...  \n",
      "20795  Jerome Hudson Rapper T.I.: Trump a ’Poster Chi...  \n",
      "20796  Benjamin Hoffman N.F.L. Playoffs: Schedule, Ma...  \n",
      "20797  Michael J. de la Merced and Rachel Abrams Macy...  \n",
      "20798  Alex Ansary NATO, Russia To Hold Parallel Exer...  \n",
      "20799            David Swanson What Keeps the F-35 Alive  \n",
      "\n",
      "[20800 rows x 5 columns]\n"
     ]
    }
   ],
   "source": [
    "print(X)"
   ]
  },
  {
   "cell_type": "code",
   "execution_count": 253,
   "metadata": {},
   "outputs": [
    {
     "name": "stdout",
     "output_type": "stream",
     "text": [
      "0        1\n",
      "1        0\n",
      "2        1\n",
      "3        1\n",
      "4        1\n",
      "5        0\n",
      "6        1\n",
      "7        0\n",
      "8        0\n",
      "9        0\n",
      "10       0\n",
      "11       0\n",
      "12       1\n",
      "13       1\n",
      "14       1\n",
      "15       0\n",
      "16       0\n",
      "17       1\n",
      "18       1\n",
      "19       0\n",
      "20       1\n",
      "21       0\n",
      "22       0\n",
      "23       1\n",
      "24       0\n",
      "25       1\n",
      "26       0\n",
      "27       1\n",
      "28       0\n",
      "29       0\n",
      "        ..\n",
      "20770    1\n",
      "20771    1\n",
      "20772    1\n",
      "20773    1\n",
      "20774    0\n",
      "20775    1\n",
      "20776    1\n",
      "20777    1\n",
      "20778    0\n",
      "20779    0\n",
      "20780    0\n",
      "20781    1\n",
      "20782    1\n",
      "20783    0\n",
      "20784    1\n",
      "20785    0\n",
      "20786    1\n",
      "20787    0\n",
      "20788    1\n",
      "20789    0\n",
      "20790    0\n",
      "20791    1\n",
      "20792    0\n",
      "20793    1\n",
      "20794    0\n",
      "20795    0\n",
      "20796    0\n",
      "20797    0\n",
      "20798    1\n",
      "20799    1\n",
      "Name: label, Length: 20800, dtype: int64\n"
     ]
    }
   ],
   "source": [
    "print(Y)"
   ]
  },
  {
   "cell_type": "markdown",
   "metadata": {},
   "source": [
    "# Data Cleaning and Pre-processing"
   ]
  },
  {
   "cell_type": "markdown",
   "metadata": {},
   "source": [
    "Stemming -> Stemming is the process of reducing a word to its Root word.\n",
    "\n",
    "example: actor, actress, acting --> act"
   ]
  },
  {
   "cell_type": "code",
   "execution_count": 254,
   "metadata": {},
   "outputs": [],
   "source": [
    "port_stem = PorterStemmer()"
   ]
  },
  {
   "cell_type": "code",
   "execution_count": 255,
   "metadata": {},
   "outputs": [],
   "source": [
    "def stemming(content):\n",
    "    stemmed_content = re.sub('[^a-zA-Z]',' ',content)\n",
    "    stemmed_content = stemmed_content.lower()\n",
    "    stemmed_content = stemmed_content.split()\n",
    "    stemmed_content = [port_stem.stem(word) for word in stemmed_content if not word in stopwords.words('english')]\n",
    "    stemmed_content = ' '.join(stemmed_content)\n",
    "    return stemmed_content"
   ]
  },
  {
   "cell_type": "code",
   "execution_count": 256,
   "metadata": {},
   "outputs": [],
   "source": [
    "news_dataset['content'] = news_dataset['content'].apply(stemming)"
   ]
  },
  {
   "cell_type": "code",
   "execution_count": 257,
   "metadata": {},
   "outputs": [
    {
     "name": "stdout",
     "output_type": "stream",
     "text": [
      "0        darrel lucu hous dem aid even see comey letter...\n",
      "1        daniel j flynn flynn hillari clinton big woman...\n",
      "2                   consortiumnew com truth might get fire\n",
      "3        jessica purkiss civilian kill singl us airstri...\n",
      "4        howard portnoy iranian woman jail fiction unpu...\n",
      "5        daniel nussbaum jacki mason hollywood would lo...\n",
      "6        life life luxuri elton john favorit shark pict...\n",
      "7        alissa j rubin beno hamon win french socialist...\n",
      "8        excerpt draft script donald trump q ampa black...\n",
      "9        megan twohey scott shane back channel plan ukr...\n",
      "10       aaron klein obama organ action partner soro li...\n",
      "11       chri tomlinson bbc comedi sketch real housew i...\n",
      "12       amando flavio russian research discov secret n...\n",
      "13              jason ditz us offici see link trump russia\n",
      "14       anotheranni ye paid govern troll social media ...\n",
      "15       jack william major leagu soccer argentin find ...\n",
      "16       michael corkeri staci cowley well fargo chief ...\n",
      "17       starkman anonym donor pay million releas every...\n",
      "18                                   doc fbi close hillari\n",
      "19       jeff poor chuck todd buzzfe donald trump polit...\n",
      "20       news hope gop nude paul ryan emerg ayahuasca t...\n",
      "21       jerom hudson monica lewinski clinton sex scand...\n",
      "22       pam key rob reiner trump mental unstabl breitbart\n",
      "23       massachusett cop wife bust pin fake home invas...\n",
      "24       donald g mcneil jr pam belluck abort pill orde...\n",
      "25       ira helfand nuke un histor treati ban nuclear ...\n",
      "26       aaron klein ali wake exclus islam state suppor...\n",
      "27       amanda shea humili hillari tri hide camera cau...\n",
      "28       jim dwyer andrea tantaro fox news claim retali...\n",
      "29       mark landler hillari clinton becam hawk new yo...\n",
      "                               ...                        \n",
      "20770    iron sheik huma abedin swore oath gave devic s...\n",
      "20771                                              letsber\n",
      "20772                                             beersess\n",
      "20773    vicki batt australia hunt anti vax nurs prosec...\n",
      "20774    liam deacon govern report islamist build paral...\n",
      "20775    arnaldo rodger wwii airman help veteran heal h...\n",
      "20776    jameson parker trump campaign say hillari supp...\n",
      "20777    admin editor austria largest paper charg hate ...\n",
      "20778    neil irwin job report democrat boast new york ...\n",
      "20779      thoma william ph christian persecut group world\n",
      "20780    christin hauser florida woman charg death infa...\n",
      "20781    heather callaghan time run stop kratom ban nee...\n",
      "20782    doc fix nbc affili accident post elect result ...\n",
      "20783    charl mcdermid samsung kim jong un rex tillers...\n",
      "20784    debbi menon comment world heav sigh relief tru...\n",
      "20785    ann coulter ann coulter provid univers health ...\n",
      "20786    govern forc advanc damascu aleppo highway east...\n",
      "20787     ian mason salli yate say trump wiretap breitbart\n",
      "20788    joe clark main gov lepag threaten investig col...\n",
      "20789    warner todd huston sen mcconnel suprem court v...\n",
      "20790    adam shaw nikki haley blast u n human right of...\n",
      "20791    daniel greenfield lawyer kept hillari campaign...\n",
      "20792    john hayward jakarta bomb kill three polic off...\n",
      "20793    robert rich idiot destroy trump hollywood star...\n",
      "20794    lee stranahan trump putin smart retali obama s...\n",
      "20795    jerom hudson rapper trump poster child white s...\n",
      "20796    benjamin hoffman n f l playoff schedul matchup...\n",
      "20797    michael j de la merc rachel abram maci said re...\n",
      "20798    alex ansari nato russia hold parallel exercis ...\n",
      "20799                            david swanson keep f aliv\n",
      "Name: content, Length: 20800, dtype: object\n"
     ]
    }
   ],
   "source": [
    "print(news_dataset['content'])"
   ]
  },
  {
   "cell_type": "code",
   "execution_count": 258,
   "metadata": {},
   "outputs": [],
   "source": [
    "#separating the data and label\n",
    "X = news_dataset['content'].values\n",
    "Y = news_dataset['label'].values"
   ]
  },
  {
   "cell_type": "code",
   "execution_count": 259,
   "metadata": {},
   "outputs": [
    {
     "name": "stdout",
     "output_type": "stream",
     "text": [
      "['darrel lucu hous dem aid even see comey letter jason chaffetz tweet'\n",
      " 'daniel j flynn flynn hillari clinton big woman campu breitbart'\n",
      " 'consortiumnew com truth might get fire' ...\n",
      " 'michael j de la merc rachel abram maci said receiv takeov approach hudson bay new york time'\n",
      " 'alex ansari nato russia hold parallel exercis balkan'\n",
      " 'david swanson keep f aliv']\n"
     ]
    }
   ],
   "source": [
    "print(X)"
   ]
  },
  {
   "cell_type": "code",
   "execution_count": 260,
   "metadata": {},
   "outputs": [
    {
     "name": "stdout",
     "output_type": "stream",
     "text": [
      "[1 0 1 ... 0 1 1]\n"
     ]
    }
   ],
   "source": [
    "print(Y)"
   ]
  },
  {
   "cell_type": "code",
   "execution_count": 261,
   "metadata": {},
   "outputs": [
    {
     "data": {
      "text/plain": [
       "(20800,)"
      ]
     },
     "execution_count": 261,
     "metadata": {},
     "output_type": "execute_result"
    }
   ],
   "source": [
    "Y.shape"
   ]
  },
  {
   "cell_type": "code",
   "execution_count": 263,
   "metadata": {},
   "outputs": [],
   "source": [
    "# converting the textual data to numerical data\n",
    "vectorizer = TfidfVectorizer()\n",
    "vectorizer.fit(X)\n",
    "\n",
    "X = vectorizer.transform(X)"
   ]
  },
  {
   "cell_type": "code",
   "execution_count": 264,
   "metadata": {},
   "outputs": [
    {
     "name": "stdout",
     "output_type": "stream",
     "text": [
      "  (0, 15686)\t0.28485063562728646\n",
      "  (0, 13473)\t0.2565896679337957\n",
      "  (0, 8909)\t0.3635963806326075\n",
      "  (0, 8630)\t0.29212514087043684\n",
      "  (0, 7692)\t0.24785219520671603\n",
      "  (0, 7005)\t0.21874169089359144\n",
      "  (0, 4973)\t0.233316966909351\n",
      "  (0, 3792)\t0.2705332480845492\n",
      "  (0, 3600)\t0.3598939188262559\n",
      "  (0, 2959)\t0.2468450128533713\n",
      "  (0, 2483)\t0.3676519686797209\n",
      "  (0, 267)\t0.27010124977708766\n",
      "  (1, 16799)\t0.30071745655510157\n",
      "  (1, 6816)\t0.1904660198296849\n",
      "  (1, 5503)\t0.7143299355715573\n",
      "  (1, 3568)\t0.26373768806048464\n",
      "  (1, 2813)\t0.19094574062359204\n",
      "  (1, 2223)\t0.3827320386859759\n",
      "  (1, 1894)\t0.15521974226349364\n",
      "  (1, 1497)\t0.2939891562094648\n",
      "  (2, 15611)\t0.41544962664721613\n",
      "  (2, 9620)\t0.49351492943649944\n",
      "  (2, 5968)\t0.3474613386728292\n",
      "  (2, 5389)\t0.3866530551182615\n",
      "  (2, 3103)\t0.46097489583229645\n",
      "  :\t:\n",
      "  (20797, 13122)\t0.2482526352197606\n",
      "  (20797, 12344)\t0.27263457663336677\n",
      "  (20797, 12138)\t0.24778257724396507\n",
      "  (20797, 10306)\t0.08038079000566466\n",
      "  (20797, 9588)\t0.174553480255222\n",
      "  (20797, 9518)\t0.2954204003420313\n",
      "  (20797, 8988)\t0.36160868928090795\n",
      "  (20797, 8364)\t0.22322585870464118\n",
      "  (20797, 7042)\t0.21799048897828688\n",
      "  (20797, 3643)\t0.21155500613623743\n",
      "  (20797, 1287)\t0.33538056804139865\n",
      "  (20797, 699)\t0.30685846079762347\n",
      "  (20797, 43)\t0.29710241860700626\n",
      "  (20798, 13046)\t0.22363267488270608\n",
      "  (20798, 11052)\t0.4460515589182236\n",
      "  (20798, 10177)\t0.3192496370187028\n",
      "  (20798, 6889)\t0.32496285694299426\n",
      "  (20798, 5032)\t0.4083701450239529\n",
      "  (20798, 1125)\t0.4460515589182236\n",
      "  (20798, 588)\t0.3112141524638974\n",
      "  (20798, 350)\t0.28446937819072576\n",
      "  (20799, 14852)\t0.5677577267055112\n",
      "  (20799, 8036)\t0.45983893273780013\n",
      "  (20799, 3623)\t0.37927626273066584\n",
      "  (20799, 377)\t0.5677577267055112\n"
     ]
    }
   ],
   "source": [
    "print(X)"
   ]
  },
  {
   "cell_type": "markdown",
   "metadata": {},
   "source": [
    "# Splitting the dataset to training & test data"
   ]
  },
  {
   "cell_type": "code",
   "execution_count": 265,
   "metadata": {},
   "outputs": [],
   "source": [
    "X_train, X_test, Y_train, Y_test = train_test_split(X, Y, test_size = 0.2, stratify=Y, random_state=2)"
   ]
  },
  {
   "cell_type": "markdown",
   "metadata": {},
   "source": [
    "# Training the Model: Logistic Regression"
   ]
  },
  {
   "cell_type": "code",
   "execution_count": 266,
   "metadata": {},
   "outputs": [],
   "source": [
    "model = LogisticRegression()"
   ]
  },
  {
   "cell_type": "code",
   "execution_count": 267,
   "metadata": {},
   "outputs": [
    {
     "name": "stderr",
     "output_type": "stream",
     "text": [
      "C:\\Users\\User\\Anaconda3\\lib\\site-packages\\sklearn\\linear_model\\logistic.py:433: FutureWarning: Default solver will be changed to 'lbfgs' in 0.22. Specify a solver to silence this warning.\n",
      "  FutureWarning)\n"
     ]
    },
    {
     "data": {
      "text/plain": [
       "LogisticRegression(C=1.0, class_weight=None, dual=False, fit_intercept=True,\n",
       "          intercept_scaling=1, max_iter=100, multi_class='warn',\n",
       "          n_jobs=None, penalty='l2', random_state=None, solver='warn',\n",
       "          tol=0.0001, verbose=0, warm_start=False)"
      ]
     },
     "execution_count": 267,
     "metadata": {},
     "output_type": "execute_result"
    }
   ],
   "source": [
    "model.fit(X_train, Y_train)"
   ]
  },
  {
   "cell_type": "markdown",
   "metadata": {},
   "source": [
    "# Evaluation"
   ]
  },
  {
   "cell_type": "code",
   "execution_count": 268,
   "metadata": {},
   "outputs": [],
   "source": [
    "# accuracy score on the training data\n",
    "X_train_prediction = model.predict(X_train)\n",
    "training_data_accuracy = accuracy_score(X_train_prediction, Y_train)"
   ]
  },
  {
   "cell_type": "code",
   "execution_count": 269,
   "metadata": {},
   "outputs": [
    {
     "name": "stdout",
     "output_type": "stream",
     "text": [
      "Accuracy score of the training data :  0.9865985576923076\n"
     ]
    }
   ],
   "source": [
    "print('Accuracy score of the training data : ', training_data_accuracy)"
   ]
  },
  {
   "cell_type": "code",
   "execution_count": 270,
   "metadata": {},
   "outputs": [],
   "source": [
    "# accuracy score on the test data\n",
    "X_test_prediction = model.predict(X_test)\n",
    "test_data_accuracy = accuracy_score(X_test_prediction, Y_test)"
   ]
  },
  {
   "cell_type": "code",
   "execution_count": 271,
   "metadata": {},
   "outputs": [
    {
     "name": "stdout",
     "output_type": "stream",
     "text": [
      "Accuracy score of the test data :  0.9790865384615385\n"
     ]
    }
   ],
   "source": [
    "print('Accuracy score of the test data : ', test_data_accuracy)"
   ]
  },
  {
   "cell_type": "markdown",
   "metadata": {},
   "source": [
    "# Training the model: Naive Bayes Model"
   ]
  },
  {
   "cell_type": "markdown",
   "metadata": {},
   "source": [
    "Using Naive Bayes Classification techniques for predicting our model. Since Naive Bayes works very well for NLP problems"
   ]
  },
  {
   "cell_type": "code",
   "execution_count": 272,
   "metadata": {},
   "outputs": [],
   "source": [
    "#import Naive Bayes algo from scikit learn\n",
    "from sklearn.naive_bayes import MultinomialNB  # mulinomialNB works for multiple classes as well"
   ]
  },
  {
   "cell_type": "code",
   "execution_count": 273,
   "metadata": {},
   "outputs": [],
   "source": [
    "naiveBayes_model = MultinomialNB().fit(X_train, Y_train)"
   ]
  },
  {
   "cell_type": "code",
   "execution_count": 274,
   "metadata": {},
   "outputs": [],
   "source": [
    "# Now predict for test data\n",
    "y_pred = naiveBayes_model.predict(X_test)"
   ]
  },
  {
   "cell_type": "code",
   "execution_count": 275,
   "metadata": {},
   "outputs": [
    {
     "name": "stdout",
     "output_type": "stream",
     "text": [
      "[1 0 1 ... 1 1 0]\n"
     ]
    }
   ],
   "source": [
    "print(y_pred)"
   ]
  },
  {
   "cell_type": "markdown",
   "metadata": {},
   "source": [
    "# Evaluation of Naive Bayes"
   ]
  },
  {
   "cell_type": "code",
   "execution_count": 276,
   "metadata": {},
   "outputs": [],
   "source": [
    "# Check accuracy of model using accuracy score\n",
    "accuracy = accuracy_score(Y_test, y_pred)"
   ]
  },
  {
   "cell_type": "code",
   "execution_count": 277,
   "metadata": {},
   "outputs": [
    {
     "data": {
      "text/plain": [
       "0.9550480769230769"
      ]
     },
     "execution_count": 277,
     "metadata": {},
     "output_type": "execute_result"
    }
   ],
   "source": [
    "accuracy"
   ]
  },
  {
   "cell_type": "markdown",
   "metadata": {},
   "source": [
    "it shows that our model is 95% accurate"
   ]
  },
  {
   "cell_type": "markdown",
   "metadata": {},
   "source": [
    "# Predictions"
   ]
  },
  {
   "cell_type": "code",
   "execution_count": 280,
   "metadata": {},
   "outputs": [
    {
     "name": "stdout",
     "output_type": "stream",
     "text": [
      "[0]\n",
      "The news is Real\n"
     ]
    }
   ],
   "source": [
    "X_new = X_test[3]\n",
    "\n",
    "prediction = naiveBayes_model.predict(X_new)\n",
    "print(prediction)\n",
    "\n",
    "if (prediction[0]==0):\n",
    "  print('The news is Real')\n",
    "else:\n",
    "  print('The news is Fake')"
   ]
  },
  {
   "cell_type": "code",
   "execution_count": 281,
   "metadata": {},
   "outputs": [],
   "source": [
    "# checking model for some random news\n",
    "news=['Four ways Bob Corker skewered Donald Trump']\n",
    "news_count = vectorizer.transform(news)"
   ]
  },
  {
   "cell_type": "code",
   "execution_count": 282,
   "metadata": {},
   "outputs": [
    {
     "name": "stdout",
     "output_type": "stream",
     "text": [
      "The news is Real\n"
     ]
    }
   ],
   "source": [
    "pred = naiveBayes_model.predict(news_count)\n",
    "\n",
    "if (pred[0]==0):\n",
    "  print('The news is Real')\n",
    "else:\n",
    "  print('The news is Fake')"
   ]
  },
  {
   "cell_type": "code",
   "execution_count": null,
   "metadata": {},
   "outputs": [],
   "source": []
  }
 ],
 "metadata": {
  "kernelspec": {
   "display_name": "Python 3",
   "language": "python",
   "name": "python3"
  }
 },
 "nbformat": 4,
 "nbformat_minor": 2
}
